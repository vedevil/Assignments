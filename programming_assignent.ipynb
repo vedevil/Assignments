{
  "nbformat": 4,
  "nbformat_minor": 0,
  "metadata": {
    "colab": {
      "name": "Flairminds.ipynb",
      "provenance": []
    },
    "kernelspec": {
      "name": "python3",
      "display_name": "Python 3"
    },
    "language_info": {
      "name": "python"
    }
  },
  "cells": [
    {
      "cell_type": "markdown",
      "source": [
        "**Q1. Spirally print elements of a square matrix in clockwise-direction**"
      ],
      "metadata": {
        "id": "VqFh3kuFfJGZ"
      }
    },
    {
      "cell_type": "code",
      "execution_count": 2,
      "metadata": {
        "id": "QtCpM9pUdGx-"
      },
      "outputs": [],
      "source": [
        "ans=[]\n",
        "def clockwiseorder(matrix):\n",
        "    global ans\n",
        "    if (len(matrix) == 0):      #checking if the given input has element\n",
        "        return \n",
        "    if (len(matrix)==2):\n",
        "        ans.extend([matrix[0][0],matrix[0][1],matrix[1][1],matrix[1][0]])\n",
        "        return\n",
        "    rows = len(matrix)\n",
        "    columns = len(matrix[0])\n",
        "    for i in range(columns):\n",
        "      ans.append(matrix[0][i])\n",
        "    matrix.pop(0)\n",
        "    for i in range(len(matrix)-1):\n",
        "      ans.append(matrix[i][columns-1])\n",
        "      matrix[i].pop(columns-1)\n",
        "    for i in range(columns-1,-1,-1):\n",
        "      ans.append(matrix[len(matrix)-1][i])\n",
        "    matrix.pop(len(matrix)-1)\n",
        "    for i in range(len(matrix)-1,-1,-1):\n",
        "      ans.append(matrix[i][0])\n",
        "      matrix[i].pop(0)\n",
        "    if len(matrix[0])==1:\n",
        "        ans.append(matrix[0][0])\n",
        "        return\n",
        "    clockwiseorder(matrix)\n",
        "  \n"
      ]
    },
    {
      "cell_type": "code",
      "source": [
        "a = [[1, 2, 3, 4],\n",
        "     [5, 6, 7, 8],\n",
        "     [9, 10, 11, 12],\n",
        "     [13, 14, 15, 16]]\n",
        "clockwiseorder(a)\n",
        "print(ans)"
      ],
      "metadata": {
        "colab": {
          "base_uri": "https://localhost:8080/"
        },
        "id": "V8DcGRKMUAjq",
        "outputId": "5aaf3924-668d-4c7b-efe7-312c51b6bdaa"
      },
      "execution_count": 3,
      "outputs": [
        {
          "output_type": "stream",
          "name": "stdout",
          "text": [
            "[1, 2, 3, 4, 8, 12, 16, 15, 14, 13, 9, 5, 6, 7, 11, 10]\n"
          ]
        }
      ]
    },
    {
      "cell_type": "markdown",
      "source": [
        "Q2. For a given array of elements (numbers 1 to 20) arrange the elements in following order -> Ascending(Absolute(a[i] - 10))\n",
        "\teg, [5, 12, 13, 10, 8, 20, 1] -> [10, 8, 12, 13, 5, 1, 20]"
      ],
      "metadata": {
        "id": "jJBx0z6NfgPn"
      }
    },
    {
      "cell_type": "code",
      "source": [
        "def newarray(arr):\n",
        "  ans=[]\n",
        "  for x in arr:\n",
        "    ans.append(abs(x-10))\n",
        "  dic=dict(zip(arr,ans))\n",
        "  sorted_dict=sorted(dic,key=dic.get)\n",
        "  return sorted_dict"
      ],
      "metadata": {
        "id": "-hLZ5UQ9Ugkl"
      },
      "execution_count": 14,
      "outputs": []
    },
    {
      "cell_type": "code",
      "source": [
        "ex=[5,12,13,10,8,20,1]\n",
        "print(newarray(ex))"
      ],
      "metadata": {
        "colab": {
          "base_uri": "https://localhost:8080/"
        },
        "id": "rSY29PXBVD4w",
        "outputId": "93c52fe5-283f-4108-9f31-ab3178159c1b"
      },
      "execution_count": 15,
      "outputs": [
        {
          "output_type": "stream",
          "name": "stdout",
          "text": [
            "[10, 12, 8, 13, 5, 1, 20]\n"
          ]
        }
      ]
    }
  ]
}